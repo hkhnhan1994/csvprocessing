{
 "cells": [
  {
   "cell_type": "markdown",
   "metadata": {},
   "source": [
    "## read csv"
   ]
  },
  {
   "cell_type": "code",
   "execution_count": 116,
   "metadata": {},
   "outputs": [],
   "source": [
    "import pandas as pd\n",
    "path = '~/CODE/csvprocessing/field_of_study_exercise.csv'\n",
    "import re\n",
    "from spellchecker import SpellChecker"
   ]
  },
  {
   "cell_type": "code",
   "execution_count": 65,
   "metadata": {},
   "outputs": [
    {
     "data": {
      "text/html": [
       "<div>\n",
       "<style scoped>\n",
       "    .dataframe tbody tr th:only-of-type {\n",
       "        vertical-align: middle;\n",
       "    }\n",
       "\n",
       "    .dataframe tbody tr th {\n",
       "        vertical-align: top;\n",
       "    }\n",
       "\n",
       "    .dataframe thead th {\n",
       "        text-align: right;\n",
       "    }\n",
       "</style>\n",
       "<table border=\"1\" class=\"dataframe\">\n",
       "  <thead>\n",
       "    <tr style=\"text-align: right;\">\n",
       "      <th></th>\n",
       "      <th>level</th>\n",
       "      <th>level_name</th>\n",
       "      <th>field_of_study</th>\n",
       "      <th>academic_field</th>\n",
       "    </tr>\n",
       "  </thead>\n",
       "  <tbody>\n",
       "    <tr>\n",
       "      <th>0</th>\n",
       "      <td>NaN</td>\n",
       "      <td>NaN</td>\n",
       "      <td>-, Marketing/Marketing Management, General</td>\n",
       "      <td>marketing</td>\n",
       "    </tr>\n",
       "    <tr>\n",
       "      <th>1</th>\n",
       "      <td>NaN</td>\n",
       "      <td>NaN</td>\n",
       "      <td>“Wellness Counseling Certificate”</td>\n",
       "      <td>NaN</td>\n",
       "    </tr>\n",
       "    <tr>\n",
       "      <th>2</th>\n",
       "      <td>NaN</td>\n",
       "      <td>NaN</td>\n",
       "      <td>(BA) Hons Fashion, Fashion/Apparel Design</td>\n",
       "      <td>NaN</td>\n",
       "    </tr>\n",
       "    <tr>\n",
       "      <th>3</th>\n",
       "      <td>NaN</td>\n",
       "      <td>NaN</td>\n",
       "      <td>(BA) Liberal Arts, Liberal Arts and Sciences/L...</td>\n",
       "      <td>NaN</td>\n",
       "    </tr>\n",
       "    <tr>\n",
       "      <th>4</th>\n",
       "      <td>NaN</td>\n",
       "      <td>NaN</td>\n",
       "      <td>* Career certificate of Marketing.</td>\n",
       "      <td>NaN</td>\n",
       "    </tr>\n",
       "    <tr>\n",
       "      <th>5</th>\n",
       "      <td>NaN</td>\n",
       "      <td>NaN</td>\n",
       "      <td>1st Class Honour, Information System and Compu...</td>\n",
       "      <td>NaN</td>\n",
       "    </tr>\n",
       "    <tr>\n",
       "      <th>6</th>\n",
       "      <td>NaN</td>\n",
       "      <td>NaN</td>\n",
       "      <td>2:1, Business Management</td>\n",
       "      <td>business management</td>\n",
       "    </tr>\n",
       "    <tr>\n",
       "      <th>7</th>\n",
       "      <td>NaN</td>\n",
       "      <td>NaN</td>\n",
       "      <td>2:1, French and Hispanic Studies</td>\n",
       "      <td>NaN</td>\n",
       "    </tr>\n",
       "    <tr>\n",
       "      <th>8</th>\n",
       "      <td>NaN</td>\n",
       "      <td>NaN</td>\n",
       "      <td>2.1, Graphic Design and Illustration</td>\n",
       "      <td>NaN</td>\n",
       "    </tr>\n",
       "    <tr>\n",
       "      <th>9</th>\n",
       "      <td>NaN</td>\n",
       "      <td>NaN</td>\n",
       "      <td>2.1, Management</td>\n",
       "      <td>NaN</td>\n",
       "    </tr>\n",
       "  </tbody>\n",
       "</table>\n",
       "</div>"
      ],
      "text/plain": [
       "  level level_name                                     field_of_study  \\\n",
       "0   NaN        NaN         -, Marketing/Marketing Management, General   \n",
       "1   NaN        NaN                  “Wellness Counseling Certificate”   \n",
       "2   NaN        NaN          (BA) Hons Fashion, Fashion/Apparel Design   \n",
       "3   NaN        NaN  (BA) Liberal Arts, Liberal Arts and Sciences/L...   \n",
       "4   NaN        NaN                 * Career certificate of Marketing.   \n",
       "5   NaN        NaN  1st Class Honour, Information System and Compu...   \n",
       "6   NaN        NaN                           2:1, Business Management   \n",
       "7   NaN        NaN                   2:1, French and Hispanic Studies   \n",
       "8   NaN        NaN               2.1, Graphic Design and Illustration   \n",
       "9   NaN        NaN                                    2.1, Management   \n",
       "\n",
       "        academic_field  \n",
       "0            marketing  \n",
       "1                  NaN  \n",
       "2                  NaN  \n",
       "3                  NaN  \n",
       "4                  NaN  \n",
       "5                  NaN  \n",
       "6  business management  \n",
       "7                  NaN  \n",
       "8                  NaN  \n",
       "9                  NaN  "
      ]
     },
     "execution_count": 65,
     "metadata": {},
     "output_type": "execute_result"
    }
   ],
   "source": [
    "data = pd.read_csv(path)\n",
    "data.head(10)"
   ]
  },
  {
   "cell_type": "markdown",
   "metadata": {},
   "source": [
    "## Assess Missing Values:"
   ]
  },
  {
   "cell_type": "code",
   "execution_count": 66,
   "metadata": {},
   "outputs": [
    {
     "name": "stdout",
     "output_type": "stream",
     "text": [
      "<class 'pandas.core.frame.DataFrame'>\n",
      "RangeIndex: 375 entries, 0 to 374\n",
      "Data columns (total 4 columns):\n",
      " #   Column          Non-Null Count  Dtype \n",
      "---  ------          --------------  ----- \n",
      " 0   level           322 non-null    object\n",
      " 1   level_name      312 non-null    object\n",
      " 2   field_of_study  375 non-null    object\n",
      " 3   academic_field  141 non-null    object\n",
      "dtypes: object(4)\n",
      "memory usage: 11.8+ KB\n",
      "null count:\n",
      "level              53\n",
      "level_name         63\n",
      "field_of_study      0\n",
      "academic_field    234\n",
      "dtype: int64\n",
      "null ratios:\n",
      "level             0.141333\n",
      "level_name        0.168000\n",
      "field_of_study    0.000000\n",
      "academic_field    0.624000\n",
      "dtype: float64\n"
     ]
    }
   ],
   "source": [
    "data.info()\n",
    "print(\"null count:\")\n",
    "null_counts = data.isnull()\n",
    "print(null_counts.sum())\n",
    "print(\"null ratios:\")\n",
    "print(null_counts.mean())"
   ]
  },
  {
   "cell_type": "markdown",
   "metadata": {},
   "source": [
    "Looking into the data, it easily figures out the  missing values of columns \"level\" should be \"diploma\" it is because "
   ]
  },
  {
   "cell_type": "code",
   "execution_count": 94,
   "metadata": {},
   "outputs": [],
   "source": []
  },
  {
   "cell_type": "code",
   "execution_count": 67,
   "metadata": {},
   "outputs": [
    {
     "name": "stdout",
     "output_type": "stream",
     "text": [
      "Index(['level', 'level_name', 'field_of_study', 'academic_field'], dtype='object')\n"
     ]
    }
   ],
   "source": [
    "# Clean column names\n",
    "data.columns = data.columns.str.strip()\n",
    "# Display cleaned column names\n",
    "print(data.columns)"
   ]
  },
  {
   "cell_type": "code",
   "execution_count": 74,
   "metadata": {},
   "outputs": [
    {
     "name": "stdout",
     "output_type": "stream",
     "text": [
      "Special characters:\n",
      "['\"', '#', '&', \"'\", '(', ')', '*', '+', ',', '-', '.', '/', ':', ';', ']', '’', '“', '”']\n"
     ]
    }
   ],
   "source": [
    "# Define a regular expression to remove special characters\n",
    "pattern = r'[^\\w\\s]'  # Matches characters that are not alphanumeric or whitespace\n",
    "# Create an empty dictionary to store column-wise special characters\n",
    "special_chars = set()\n",
    "# Iterate through each column in the DataFrame\n",
    "for col in data.columns:\n",
    "    # Create an empty set for the current column's special characters\n",
    "    \n",
    "\n",
    "    # Iterate through each element in the column\n",
    "    for element in data[col].values:\n",
    "        # Find all special characters using the regular expression\n",
    "        matches = re.findall(pattern, str(element))\n",
    "        # Add unique characters to the set\n",
    "        special_chars.update(matches)\n",
    "\n",
    "# Print the dictionary showing special characters by column\n",
    "print(\"Special characters:\")\n",
    "print(f\"{sorted(special_chars)}\")"
   ]
  },
  {
   "cell_type": "code",
   "execution_count": null,
   "metadata": {},
   "outputs": [],
   "source": []
  },
  {
   "cell_type": "code",
   "execution_count": 113,
   "metadata": {},
   "outputs": [],
   "source": [
    "# Define the whitelist characters\n",
    "# whitelist = r'\\-\\_\\.'  # Include any characters you want to whitelist\n",
    "whitelist =''\n",
    "# Construct the regex pattern\n",
    "pattern = f'[^a-zA-Z0-9\\s{whitelist}]'\n",
    "mapping_specific_pattern ={\n",
    "    'bba':'',\n",
    "    'honours': 'Hons',\n",
    "    'bachelor degree in':'',\n",
    "    'bachelor degree':'',\n",
    "    'bachelor in':'',\n",
    "    'bachelor of':'',\n",
    "    'basc': '',\n",
    "    '&': 'and',\n",
    "    'bachelor hons in': ''\n",
    "}\n",
    "\n",
    "# Function to replace substrings regardless of case sensitivity\n",
    "def replace_substrings(string, replacements):\n",
    "    pattern = re.compile('|'.join(re.escape(key) for key in replacements.keys()), re.IGNORECASE)\n",
    "    return pattern.sub(lambda match: replacements[match.group(0).lower()], string)\n",
    "\n",
    "# Function to clean each field_of_study entry\n",
    "def clean_field_of_study(field):\n",
    "    # Split the field by ','\n",
    "    fields = field.split(',')\n",
    "    # replace special cases:\n",
    "    cleaned_fields = [replace_substrings(s, mapping_specific_pattern) for s in fields]\n",
    "    # Clean each split value\n",
    "    cleaned_fields = [re.sub(pattern, '', f).strip() for f in cleaned_fields]\n",
    "    # mapping specific patterns:\n",
    "    cleaned_fields = [replace_substrings(s, mapping_specific_pattern) for s in cleaned_fields]\n",
    "    # Remove empty fields\n",
    "    cleaned_fields = [f for f in cleaned_fields if f]\n",
    "    # Join them back with ','\n",
    "    cleaned_text =  ', '.join(cleaned_fields)\n",
    "    cleaned_text = re.sub(r'\\s+', ' ', cleaned_text)  # Remove multiple spaces\n",
    "    return cleaned_text\n",
    "split_df = data['field_of_study'].apply(clean_field_of_study)\n",
    "\n",
    "split_df.head(10)\n",
    "split_df.to_csv('~/CODE/csvprocessing/test.csv')\n",
    "# split_df[114]"
   ]
  }
 ],
 "metadata": {
  "kernelspec": {
   "display_name": ".venv",
   "language": "python",
   "name": "python3"
  },
  "language_info": {
   "codemirror_mode": {
    "name": "ipython",
    "version": 3
   },
   "file_extension": ".py",
   "mimetype": "text/x-python",
   "name": "python",
   "nbconvert_exporter": "python",
   "pygments_lexer": "ipython3",
   "version": "3.10.13"
  }
 },
 "nbformat": 4,
 "nbformat_minor": 2
}
